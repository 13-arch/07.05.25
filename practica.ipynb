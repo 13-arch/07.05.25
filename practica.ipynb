{
 "cells": [
  {
   "cell_type": "code",
   "execution_count": 6,
   "metadata": {},
   "outputs": [],
   "source": [
    "class Person:\n",
    "    def __init__(self, name,surname,age,email):\n",
    "        self.__name=name\n",
    "        self.surname=surname\n",
    "        try:\n",
    "\n",
    "            if self.__age < 0:\n",
    "                raise ValueError(\"Age couldn't be negative\")\n",
    "            else:\n",
    "                self.__age=age\n",
    "        except:\n",
    "            print(\"Age couldn't be negative\")\n",
    "        self.email=email\n",
    "\n"
   ]
  },
  {
   "cell_type": "code",
   "execution_count": 7,
   "metadata": {},
   "outputs": [
    {
     "name": "stdout",
     "output_type": "stream",
     "text": [
      "Age coudn't be negative\n"
     ]
    }
   ],
   "source": [
    "a = Person('a','b',-23,'c')"
   ]
  },
  {
   "cell_type": "code",
   "execution_count": null,
   "metadata": {},
   "outputs": [],
   "source": [
    "b ='sdf1fsd'\n",
    "b = b.lower()\n",
    "print(b)\n",
    "ascii_range = range(97 ,123, 1)\n",
    "\n",
    "for item in range(0 , len(b)):\n",
    "    if ord(b[item]) not in ascii_range:\n",
    "        raise ValueError(\" Name coudn't contain non-letter symbols\")\n",
    " "
   ]
  },
  {
   "cell_type": "code",
   "execution_count": null,
   "metadata": {},
   "outputs": [],
   "source": [
    "c = 'sada@mail.ru'\n",
    "\n",
    "if '@' not in c:\n",
    "    raise ValueError('You enterned not email adress')\n",
    "try:\n",
    "    d = c.split('@')\n",
    "    if len(d) != 2:\n",
    "        raise ValueError('You enterned not email adress')\n",
    "    if '.' not in d[1]:\n",
    "        raise ValueError('You enterned not email adress')\n",
    "    try:\n",
    "        e = d[1].split('.')\n",
    "        check = len(e[0]) / len(e[1])\n",
    "        check = len(e[1]) / len(e[0])\n",
    "    except:\n",
    "        raise ValueError('You enterned not email adress')\n",
    "except:\n",
    "    print((\"You enterned not email adress\"))\n"
   ]
  }
 ],
 "metadata": {
  "kernelspec": {
   "display_name": "Python 3",
   "language": "python",
   "name": "python3"
  },
  "language_info": {
   "codemirror_mode": {
    "name": "ipython",
    "version": 3
   },
   "file_extension": ".py",
   "mimetype": "text/x-python",
   "name": "python",
   "nbconvert_exporter": "python",
   "pygments_lexer": "ipython3",
   "version": "3.12.3"
  }
 },
 "nbformat": 4,
 "nbformat_minor": 2
}
