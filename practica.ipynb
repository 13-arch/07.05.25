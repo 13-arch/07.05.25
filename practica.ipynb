{
 "cells": [
  {
   "cell_type": "code",
   "execution_count": 93,
   "metadata": {},
   "outputs": [],
   "source": [
    "class Person:\n",
    "    def __init__(self, name,surname,age,email):\n",
    "        self.__name=name\n",
    "        try:\n",
    "            b = self.__name.lower()\n",
    "            ascii_range = range(97 ,123, 1)\n",
    "\n",
    "            for item in range(0 , len(b)):\n",
    "                if ord(b[item]) not in ascii_range:\n",
    "                    raise ValueError(\"Name coudn't contain non-letter symbols\")\n",
    "        except:\n",
    "            print(\"Name coudn't contain non-letter symbols\")\n",
    "        self.__surname=surname\n",
    "        try:\n",
    "            b = self.__surname.lower()\n",
    "            ascii_range = range(97 ,123, 1)\n",
    "\n",
    "            for item in range(0 , len(b)):\n",
    "                if ord(b[item]) not in ascii_range:\n",
    "                    raise ValueError(\"Surname coudn't contain non-letter symbols\")\n",
    "        except:\n",
    "            print(\"Surname coudn't contain non-letter symbols\")\n",
    "        try:\n",
    "            if age < 0:\n",
    "                raise ValueError(\"Age couldn't be negative\")\n",
    "            elif age >120:\n",
    "                raise ValueError(\"Age couldn't be more then 120\")\n",
    "            else:\n",
    "                self.__age=age\n",
    "        except ValueError as e:\n",
    "            print(e)\n",
    "\n",
    "        self.__email=email            \n",
    "        try:\n",
    "            if '@' not in self.__email:\n",
    "                raise ValueError('You enterned not email adress')\n",
    "            d = self.__email.split('@')\n",
    "            if len(d) != 2:\n",
    "                raise ValueError('You enterned not email adress')\n",
    "            if '.' not in d[1]:\n",
    "                raise ValueError('You enterned not email adress')\n",
    "            try:\n",
    "                e = d[1].split('.')\n",
    "                check = len(e[0]) / len(e[1])\n",
    "                check = len(e[1]) / len(e[0])\n",
    "            except:\n",
    "                raise ValueError('You enterned not email adress')\n",
    "        except:\n",
    "            print((\"You enterned not email adress\"))\n",
    "    def new_age(self, new_age):\n",
    "        try:\n",
    "            if new_age < 0:\n",
    "                raise ValueError(\"Возраст не может быть отрицательным\")\n",
    "            elif new_age > 120:\n",
    "                raise ValueError(\"Возраст не может быть больше 120 лет\")\n",
    "            else:\n",
    "                self.__age = new_age\n",
    "                print(f\"Возраст изменён на {self.__age}\")\n",
    "        except ValueError as e:\n",
    "            print(e)\n",
    "    def __str__(self):\n",
    "        return f\"Имя: {self.__name}, Фамилия: {self.__surname}, Возраст: {self.__age}, Email: {self.__email}\"\n"
   ]
  },
  {
   "cell_type": "code",
   "execution_count": 94,
   "metadata": {},
   "outputs": [
    {
     "name": "stdout",
     "output_type": "stream",
     "text": [
      "Возраст изменён на 45\n",
      "Имя: ars, Фамилия: b, Возраст: 45, Email: sfsdfru@mail.ru\n"
     ]
    }
   ],
   "source": [
    "a = Person('ars','b',23,'sfsdfru@mail.ru')\n",
    "a.new_age(45)\n",
    "print(a)"
   ]
  }
 ],
 "metadata": {
  "kernelspec": {
   "display_name": "Python 3",
   "language": "python",
   "name": "python3"
  },
  "language_info": {
   "codemirror_mode": {
    "name": "ipython",
    "version": 3
   },
   "file_extension": ".py",
   "mimetype": "text/x-python",
   "name": "python",
   "nbconvert_exporter": "python",
   "pygments_lexer": "ipython3",
   "version": "3.12.3"
  }
 },
 "nbformat": 4,
 "nbformat_minor": 2
}
